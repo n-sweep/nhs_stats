{
 "cells": [
  {
   "cell_type": "code",
   "execution_count": null,
   "id": "0ccb6547",
   "metadata": {
    "lines_to_next_cell": 1
   },
   "outputs": [],
   "source": [
    "import os\n",
    "import time\n",
    "import sqlite3\n",
    "import requests\n",
    "from bs4 import BeautifulSoup as bs\n",
    "import plotly.express as px\n",
    "import plotly.graph_objs as go\n",
    "import plotly.io as pio\n",
    "import pandas as pd\n",
    "\n",
    "# plotly setup\n",
    "pio.renderers.default = 'notebook'\n",
    "pd.options.plotting.backend = 'plotly'\n",
    "\n",
    "def pwrite(fig, plt='/tmp/vis/plot.json'):\n",
    "    fig = fig.update_layout(autosize=False)\n",
    "    fig.write_json(plt)"
   ]
  },
  {
   "cell_type": "code",
   "execution_count": null,
   "id": "1d7dd11c",
   "metadata": {},
   "outputs": [],
   "source": [
    "con = sqlite3.connect(\"./data/nhs.db\")\n",
    "cur = con.cursor()"
   ]
  },
  {
   "cell_type": "markdown",
   "id": "c27ce533",
   "metadata": {},
   "source": [
    "# Trust ICB Attribution File\n",
    "2023-24/Trust-ICB-Attribution-File.xls'\n",
    "skiprows = 7\n",
    "\n",
    "An integrated care board (or ICB) is a statutory NHS organisation which is\n",
    "responsible for developing a plan for meeting the health needs of the\n",
    "population, managing the NHS budget and arranging for the provision of health\n",
    "services in a geographical area. - @databyjosh\n",
    "\n",
    "this file maps individual trusts to an ICB board, which are themselves encompassed\n",
    "by regions"
   ]
  },
  {
   "cell_type": "markdown",
   "id": "5b68dccc",
   "metadata": {},
   "source": [
    "# Actue Trust Attribution File\n",
    "2023-24/February-2024-Acute-Trust-Attribution-File.xls'\n",
    "# skiprows = 2\n",
    "\n",
    "Next Steps on the NHS Five Year Forward View set out how sustainability and\n",
    "transformation partnerships (STPs) would drive integrated care across England,\n",
    "creating new opportunities to improve services for the public. Furthermore,\n",
    "it committed NHS England to publishing a baseline assessment of STP progress\n",
    "in July 2017. - thanks @databyjosh\n",
    "\n",
    "this table appears to map regions to STPs, and contains a secondary table\n",
    "which maps STP names to codes"
   ]
  },
  {
   "cell_type": "code",
   "execution_count": null,
   "id": "7161ac95",
   "metadata": {},
   "outputs": [],
   "source": [
    "fp_201812 = './data/2018-19/December-2018-AE-by-provider-uViG6.xls'\n",
    "fp_201901 = './data/2018-19/January-2019-AE-by-provider-CeyJ9.xls'\n",
    "df_201812 = pd.read_excel(fp_201812, skiprows=13)\n",
    "df_201901 = pd.read_excel(fp_201901, skiprows=13)"
   ]
  },
  {
   "cell_type": "code",
   "execution_count": null,
   "id": "7ec0b6dc",
   "metadata": {},
   "outputs": [],
   "source": [
    "df_201812.iloc[0]"
   ]
  },
  {
   "cell_type": "code",
   "execution_count": null,
   "id": "b9ef3777",
   "metadata": {},
   "outputs": [],
   "source": [
    "df_201812.columns"
   ]
  },
  {
   "cell_type": "code",
   "execution_count": null,
   "id": "be413734",
   "metadata": {
    "lines_to_next_cell": 2
   },
   "outputs": [],
   "source": []
  },
  {
   "cell_type": "code",
   "execution_count": null,
   "id": "abc3bd3a",
   "metadata": {
    "lines_to_next_cell": 0
   },
   "outputs": [],
   "source": []
  },
  {
   "cell_type": "code",
   "execution_count": null,
   "id": "e907e77b",
   "metadata": {
    "lines_to_next_cell": 0
   },
   "outputs": [],
   "source": []
  },
  {
   "cell_type": "code",
   "execution_count": null,
   "id": "f44d86db",
   "metadata": {
    "lines_to_next_cell": 0
   },
   "outputs": [],
   "source": []
  },
  {
   "cell_type": "code",
   "execution_count": null,
   "id": "176011cb",
   "metadata": {
    "lines_to_next_cell": 0
   },
   "outputs": [],
   "source": []
  },
  {
   "cell_type": "code",
   "execution_count": null,
   "id": "5cb43726",
   "metadata": {
    "lines_to_next_cell": 0
   },
   "outputs": [],
   "source": []
  },
  {
   "cell_type": "code",
   "execution_count": null,
   "id": "0c696e03",
   "metadata": {
    "lines_to_next_cell": 0
   },
   "outputs": [],
   "source": []
  },
  {
   "cell_type": "code",
   "execution_count": null,
   "id": "8ccfc2fd",
   "metadata": {
    "lines_to_next_cell": 0
   },
   "outputs": [],
   "source": []
  },
  {
   "cell_type": "code",
   "execution_count": null,
   "id": "9cfdf27a",
   "metadata": {
    "lines_to_next_cell": 0
   },
   "outputs": [],
   "source": []
  },
  {
   "cell_type": "code",
   "execution_count": null,
   "id": "df824cd9",
   "metadata": {
    "lines_to_next_cell": 0
   },
   "outputs": [],
   "source": []
  },
  {
   "cell_type": "code",
   "execution_count": null,
   "id": "2ee447c7",
   "metadata": {
    "lines_to_next_cell": 0
   },
   "outputs": [],
   "source": []
  },
  {
   "cell_type": "code",
   "execution_count": null,
   "id": "6577396e",
   "metadata": {
    "lines_to_next_cell": 0
   },
   "outputs": [],
   "source": []
  },
  {
   "cell_type": "code",
   "execution_count": null,
   "id": "3b4905ea",
   "metadata": {
    "lines_to_next_cell": 0
   },
   "outputs": [],
   "source": []
  },
  {
   "cell_type": "code",
   "execution_count": null,
   "id": "a06cceb2",
   "metadata": {
    "lines_to_next_cell": 0
   },
   "outputs": [],
   "source": []
  },
  {
   "cell_type": "code",
   "execution_count": null,
   "id": "7c004ec3",
   "metadata": {
    "lines_to_next_cell": 0
   },
   "outputs": [],
   "source": []
  },
  {
   "cell_type": "code",
   "execution_count": null,
   "id": "0c55b3bc",
   "metadata": {
    "lines_to_next_cell": 0
   },
   "outputs": [],
   "source": []
  },
  {
   "cell_type": "code",
   "execution_count": null,
   "id": "caf8de9e",
   "metadata": {
    "lines_to_next_cell": 0
   },
   "outputs": [],
   "source": []
  },
  {
   "cell_type": "code",
   "execution_count": null,
   "id": "acfd9881",
   "metadata": {
    "lines_to_next_cell": 0
   },
   "outputs": [],
   "source": []
  },
  {
   "cell_type": "code",
   "execution_count": null,
   "id": "7c09bb52",
   "metadata": {
    "lines_to_next_cell": 0
   },
   "outputs": [],
   "source": []
  },
  {
   "cell_type": "code",
   "execution_count": null,
   "id": "abf7d82a",
   "metadata": {
    "lines_to_next_cell": 0
   },
   "outputs": [],
   "source": []
  },
  {
   "cell_type": "code",
   "execution_count": null,
   "id": "84aefe9f",
   "metadata": {
    "lines_to_next_cell": 0
   },
   "outputs": [],
   "source": []
  },
  {
   "cell_type": "code",
   "execution_count": null,
   "id": "59915ad5",
   "metadata": {
    "lines_to_next_cell": 0
   },
   "outputs": [],
   "source": []
  },
  {
   "cell_type": "code",
   "execution_count": null,
   "id": "0c098934",
   "metadata": {
    "lines_to_next_cell": 0
   },
   "outputs": [],
   "source": []
  },
  {
   "cell_type": "code",
   "execution_count": null,
   "id": "0de69b75",
   "metadata": {
    "lines_to_next_cell": 0
   },
   "outputs": [],
   "source": []
  },
  {
   "cell_type": "code",
   "execution_count": null,
   "id": "9e4e5026",
   "metadata": {
    "lines_to_next_cell": 0
   },
   "outputs": [],
   "source": []
  },
  {
   "cell_type": "code",
   "execution_count": null,
   "id": "e465487f",
   "metadata": {
    "lines_to_next_cell": 0
   },
   "outputs": [],
   "source": []
  },
  {
   "cell_type": "code",
   "execution_count": null,
   "id": "e540d757",
   "metadata": {
    "lines_to_next_cell": 0
   },
   "outputs": [],
   "source": []
  },
  {
   "cell_type": "code",
   "execution_count": null,
   "id": "d3450915",
   "metadata": {
    "lines_to_next_cell": 0
   },
   "outputs": [],
   "source": []
  },
  {
   "cell_type": "code",
   "execution_count": null,
   "id": "59955932",
   "metadata": {
    "lines_to_next_cell": 0
   },
   "outputs": [],
   "source": []
  },
  {
   "cell_type": "code",
   "execution_count": null,
   "id": "5696cef7",
   "metadata": {
    "lines_to_next_cell": 0
   },
   "outputs": [],
   "source": []
  },
  {
   "cell_type": "code",
   "execution_count": null,
   "id": "1ab276b0",
   "metadata": {
    "lines_to_next_cell": 0
   },
   "outputs": [],
   "source": []
  },
  {
   "cell_type": "code",
   "execution_count": null,
   "id": "9b0fc3d1",
   "metadata": {},
   "outputs": [],
   "source": []
  }
 ],
 "metadata": {
  "kernelspec": {
   "display_name": "Python3",
   "language": "python",
   "name": "Python3"
  }
 },
 "nbformat": 4,
 "nbformat_minor": 5
}
